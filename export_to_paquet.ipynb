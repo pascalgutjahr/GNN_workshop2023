{
 "cells": [
  {
   "cell_type": "code",
   "execution_count": 7,
   "id": "6e050b03",
   "metadata": {},
   "outputs": [],
   "source": [
    "import os\n",
    "\n",
    "from graphnet.data.extractors import (\n",
    "    I3FeatureExtractorIceCube86,\n",
    "    I3RetroExtractor,\n",
    "    I3TruthExtractor,\n",
    "    I3GenericExtractor,\n",
    ")\n",
    "from graphnet.data.dataconverter import DataConverter\n",
    "from graphnet.data.parquet import ParquetDataConverter\n",
    "from graphnet.utilities.logging import Logger\n",
    "\n"
   ]
  },
  {
   "cell_type": "code",
   "execution_count": 15,
   "id": "a3a9468e",
   "metadata": {},
   "outputs": [],
   "source": [
    "from typing import TYPE_CHECKING, Dict\n",
    "\n",
    "from graphnet.data.extractors.i3extractor import I3Extractor\n",
    "\n",
    "if TYPE_CHECKING:\n",
    "    from icecube import icetray  # pyright: reportMissingImports=false\n",
    "\n",
    "\n",
    "class I3DNNExtractor(I3Extractor):\n",
    "    \"\"\"Class for extracting truth labels from LabelsDeepLearning\"\"\"\n",
    "\n",
    "    def __init__(\n",
    "        self,\n",
    "        name: str = \"LabelsDeepLearning\",\n",
    "        padding_value: int = -1,\n",
    "        dnn_keys: list[str] = [ \"EnergyVisible\",\n",
    "                                \"Length\",\n",
    "                                \"LengthInDetector\",\n",
    "                                \"PrimaryAzimuth\",\n",
    "                                \"PrimaryDirectionX\",\n",
    "                                \"PrimaryDirectionY\",\n",
    "                                \"PrimaryDirectionZ\",\n",
    "                                \"PrimaryEnergy\",\n",
    "                                \"PrimaryZenith\",\n",
    "                                \"TotalDepositedEnergy\",\n",
    "                                \"VertexTime\",\n",
    "                                \"VertexX\",\n",
    "                                \"VertexY\",\n",
    "                                \"VertexZ\"]\n",
    "    ):\n",
    "        \"\"\"Construct I3QUESOExtractor.\"\"\"\n",
    "        # Base class constructor\n",
    "        super().__init__(name)\n",
    "        self._padding_value = padding_value\n",
    "        self.dnn_keys = dnn_keys\n",
    "\n",
    "    def __call__(self, frame: \"icetray.I3Frame\") -> Dict[str, float]:\n",
    "        \"\"\"Extract Truth labels form LabelsDeepLearning.\"\"\"\n",
    "        output = {}\n",
    "        dnn_dict = frame[self._name]\n",
    "        \n",
    "        for key in self.dnn_keys:\n",
    "            output[f\"DNNLabel_{key}\"] = dnn_dict[key]\n",
    "\n",
    "        return output"
   ]
  },
  {
   "cell_type": "code",
   "execution_count": 16,
   "id": "40431c26",
   "metadata": {
    "scrolled": false
   },
   "outputs": [
    {
     "name": "stdout",
     "output_type": "stream",
     "text": [
      "\u001b[1;34mgraphnet\u001b[0m [MainProcess] \u001b[32mINFO    \u001b[0m 2023-05-02 11:28:39 - ParquetDataConverter.execute - Saving results to /data/user/lneste/graphnet_export/\u001b[0m\n",
      "\u001b[1;34mgraphnet\u001b[0m [MainProcess] \u001b[32mINFO    \u001b[0m 2023-05-02 11:28:39 - ParquetDataConverter.get_map_function - Processing 99 I3 file(s) in main thread (not multiprocessing)\u001b[0m\n"
     ]
    },
    {
     "name": "stderr",
     "output_type": "stream",
     "text": [
      "  0%|\u001b[32m                                                                                                                              \u001b[0m| 0/99 [00:00<?, ?file(s)/s]\u001b[0m"
     ]
    },
    {
     "name": "stdout",
     "output_type": "stream",
     "text": [
      "\u001b[1;34mgraphnet\u001b[0m [MainProcess] \u001b[33mWARNING \u001b[0m 2023-05-02 11:28:48 - ParquetDataConverter.save_data - Output file /data/user/lneste/graphnet_export/Level2_IC86.2016_corsika.020904.000046.parquet already exists. Overwriting.\u001b[0m\n"
     ]
    },
    {
     "name": "stderr",
     "output_type": "stream",
     "text": [
      "  1%|\u001b[32m█▏                                                                                                                    \u001b[0m| 1/99 [00:10<16:30, 10.10s/file(s)]\u001b[0m"
     ]
    },
    {
     "name": "stdout",
     "output_type": "stream",
     "text": [
      "\u001b[1;34mgraphnet\u001b[0m [MainProcess] \u001b[33mWARNING \u001b[0m 2023-05-02 11:28:59 - ParquetDataConverter.save_data - Output file /data/user/lneste/graphnet_export/Level2_IC86.2016_corsika.020904.000083.parquet already exists. Overwriting.\u001b[0m\n"
     ]
    },
    {
     "name": "stderr",
     "output_type": "stream",
     "text": [
      "  2%|\u001b[32m██▍                                                                                                                   \u001b[0m| 2/99 [00:21<17:18, 10.70s/file(s)]\u001b[0m"
     ]
    },
    {
     "name": "stdout",
     "output_type": "stream",
     "text": [
      "\u001b[1;34mgraphnet\u001b[0m [MainProcess] \u001b[33mWARNING \u001b[0m 2023-05-02 11:29:10 - ParquetDataConverter.save_data - Output file /data/user/lneste/graphnet_export/Level2_IC86.2016_corsika.020904.000035.parquet already exists. Overwriting.\u001b[0m\n"
     ]
    },
    {
     "name": "stderr",
     "output_type": "stream",
     "text": [
      "  3%|\u001b[32m███▌                                                                                                                  \u001b[0m| 3/99 [00:32<17:34, 10.99s/file(s)]\u001b[0m"
     ]
    },
    {
     "name": "stdout",
     "output_type": "stream",
     "text": [
      "\u001b[1;34mgraphnet\u001b[0m [MainProcess] \u001b[33mWARNING \u001b[0m 2023-05-02 11:29:20 - ParquetDataConverter.save_data - Output file /data/user/lneste/graphnet_export/Level2_IC86.2016_corsika.020904.000073.parquet already exists. Overwriting.\u001b[0m\n"
     ]
    },
    {
     "name": "stderr",
     "output_type": "stream",
     "text": [
      "  4%|\u001b[32m████▊                                                                                                                 \u001b[0m| 4/99 [00:42<16:27, 10.39s/file(s)]\u001b[0m"
     ]
    },
    {
     "name": "stdout",
     "output_type": "stream",
     "text": [
      "\u001b[1;34mgraphnet\u001b[0m [MainProcess] \u001b[33mWARNING \u001b[0m 2023-05-02 11:29:31 - ParquetDataConverter.save_data - Output file /data/user/lneste/graphnet_export/Level2_IC86.2016_corsika.020904.000007.parquet already exists. Overwriting.\u001b[0m\n"
     ]
    },
    {
     "name": "stderr",
     "output_type": "stream",
     "text": [
      "  6%|\u001b[32m███████▏                                                                                                              \u001b[0m| 6/99 [01:02<15:37, 10.08s/file(s)]\u001b[0m"
     ]
    },
    {
     "name": "stdout",
     "output_type": "stream",
     "text": [
      "\u001b[1;34mgraphnet\u001b[0m [MainProcess] \u001b[33mWARNING \u001b[0m 2023-05-02 11:29:53 - ParquetDataConverter.save_data - Output file /data/user/lneste/graphnet_export/Level2_IC86.2016_corsika.020904.000027.parquet already exists. Overwriting.\u001b[0m\n"
     ]
    },
    {
     "name": "stderr",
     "output_type": "stream",
     "text": [
      "  7%|\u001b[32m████████▎                                                                                                             \u001b[0m| 7/99 [01:15<16:57, 11.06s/file(s)]\u001b[0m"
     ]
    },
    {
     "name": "stdout",
     "output_type": "stream",
     "text": [
      "\u001b[1;34mgraphnet\u001b[0m [MainProcess] \u001b[33mWARNING \u001b[0m 2023-05-02 11:30:04 - ParquetDataConverter.save_data - Output file /data/user/lneste/graphnet_export/Level2_IC86.2016_corsika.020904.000092.parquet already exists. Overwriting.\u001b[0m\n"
     ]
    },
    {
     "name": "stderr",
     "output_type": "stream",
     "text": [
      "  8%|\u001b[32m█████████▌                                                                                                            \u001b[0m| 8/99 [01:25<16:39, 10.98s/file(s)]\u001b[0m"
     ]
    },
    {
     "name": "stdout",
     "output_type": "stream",
     "text": [
      "\u001b[1;34mgraphnet\u001b[0m [MainProcess] \u001b[33mWARNING \u001b[0m 2023-05-02 11:30:13 - ParquetDataConverter.save_data - Output file /data/user/lneste/graphnet_export/Level2_IC86.2016_corsika.020904.000097.parquet already exists. Overwriting.\u001b[0m\n"
     ]
    },
    {
     "name": "stderr",
     "output_type": "stream",
     "text": [
      "  9%|\u001b[32m██████████▋                                                                                                           \u001b[0m| 9/99 [01:35<15:46, 10.52s/file(s)]\u001b[0m"
     ]
    },
    {
     "name": "stdout",
     "output_type": "stream",
     "text": [
      "\u001b[1;34mgraphnet\u001b[0m [MainProcess] \u001b[33mWARNING \u001b[0m 2023-05-02 11:30:25 - ParquetDataConverter.save_data - Output file /data/user/lneste/graphnet_export/Level2_IC86.2016_corsika.020904.000059.parquet already exists. Overwriting.\u001b[0m\n"
     ]
    },
    {
     "name": "stderr",
     "output_type": "stream",
     "text": [
      " 10%|\u001b[32m███████████▊                                                                                                         \u001b[0m| 10/99 [01:47<16:17, 10.98s/file(s)]\u001b[0m"
     ]
    },
    {
     "name": "stdout",
     "output_type": "stream",
     "text": [
      "\u001b[1;34mgraphnet\u001b[0m [MainProcess] \u001b[33mWARNING \u001b[0m 2023-05-02 11:30:36 - ParquetDataConverter.save_data - Output file /data/user/lneste/graphnet_export/Level2_IC86.2016_corsika.020904.000041.parquet already exists. Overwriting.\u001b[0m\n"
     ]
    },
    {
     "name": "stderr",
     "output_type": "stream",
     "text": [
      " 11%|\u001b[32m█████████████                                                                                                        \u001b[0m| 11/99 [01:57<15:50, 10.81s/file(s)]\u001b[0m"
     ]
    },
    {
     "name": "stdout",
     "output_type": "stream",
     "text": [
      "\u001b[1;34mgraphnet\u001b[0m [MainProcess] \u001b[33mWARNING \u001b[0m 2023-05-02 11:30:45 - ParquetDataConverter.save_data - Output file /data/user/lneste/graphnet_export/Level2_IC86.2016_corsika.020904.000005.parquet already exists. Overwriting.\u001b[0m\n"
     ]
    },
    {
     "name": "stderr",
     "output_type": "stream",
     "text": [
      " 12%|\u001b[32m██████████████▏                                                                                                      \u001b[0m| 12/99 [02:07<15:01, 10.36s/file(s)]\u001b[0m"
     ]
    },
    {
     "name": "stdout",
     "output_type": "stream",
     "text": [
      "\u001b[1;34mgraphnet\u001b[0m [MainProcess] \u001b[33mWARNING \u001b[0m 2023-05-02 11:30:55 - ParquetDataConverter.save_data - Output file /data/user/lneste/graphnet_export/Level2_IC86.2016_corsika.020904.000057.parquet already exists. Overwriting.\u001b[0m\n"
     ]
    },
    {
     "name": "stderr",
     "output_type": "stream",
     "text": [
      " 13%|\u001b[32m███████████████▎                                                                                                     \u001b[0m| 13/99 [02:17<14:45, 10.30s/file(s)]\u001b[0m"
     ]
    },
    {
     "name": "stdout",
     "output_type": "stream",
     "text": [
      "\u001b[1;34mgraphnet\u001b[0m [MainProcess] \u001b[33mWARNING \u001b[0m 2023-05-02 11:31:07 - ParquetDataConverter.save_data - Output file /data/user/lneste/graphnet_export/Level2_IC86.2016_corsika.020904.000063.parquet already exists. Overwriting.\u001b[0m\n"
     ]
    },
    {
     "name": "stderr",
     "output_type": "stream",
     "text": [
      " 14%|\u001b[32m████████████████▌                                                                                                    \u001b[0m| 14/99 [02:28<15:09, 10.70s/file(s)]\u001b[0m"
     ]
    },
    {
     "name": "stdout",
     "output_type": "stream",
     "text": [
      "\u001b[1;34mgraphnet\u001b[0m [MainProcess] \u001b[33mWARNING \u001b[0m 2023-05-02 11:31:17 - ParquetDataConverter.save_data - Output file /data/user/lneste/graphnet_export/Level2_IC86.2016_corsika.020904.000086.parquet already exists. Overwriting.\u001b[0m\n"
     ]
    },
    {
     "name": "stderr",
     "output_type": "stream",
     "text": [
      " 15%|\u001b[32m█████████████████▋                                                                                                   \u001b[0m| 15/99 [02:38<14:40, 10.48s/file(s)]\u001b[0m"
     ]
    },
    {
     "name": "stdout",
     "output_type": "stream",
     "text": [
      "\u001b[1;34mgraphnet\u001b[0m [MainProcess] \u001b[33mWARNING \u001b[0m 2023-05-02 11:31:27 - ParquetDataConverter.save_data - Output file /data/user/lneste/graphnet_export/Level2_IC86.2016_corsika.020904.000020.parquet already exists. Overwriting.\u001b[0m\n"
     ]
    },
    {
     "name": "stderr",
     "output_type": "stream",
     "text": [
      " 16%|\u001b[32m██████████████████▉                                                                                                  \u001b[0m| 16/99 [02:49<14:26, 10.44s/file(s)]\u001b[0m"
     ]
    },
    {
     "name": "stdout",
     "output_type": "stream",
     "text": [
      "\u001b[1;34mgraphnet\u001b[0m [MainProcess] \u001b[33mWARNING \u001b[0m 2023-05-02 11:31:38 - ParquetDataConverter.save_data - Output file /data/user/lneste/graphnet_export/Level2_IC86.2016_corsika.020904.000039.parquet already exists. Overwriting.\u001b[0m\n"
     ]
    },
    {
     "name": "stderr",
     "output_type": "stream",
     "text": [
      " 18%|\u001b[32m█████████████████████▎                                                                                               \u001b[0m| 18/99 [03:12<15:09, 11.23s/file(s)]\u001b[0m"
     ]
    },
    {
     "name": "stdout",
     "output_type": "stream",
     "text": [
      "\u001b[1;34mgraphnet\u001b[0m [MainProcess] \u001b[33mWARNING \u001b[0m 2023-05-02 11:32:01 - ParquetDataConverter.save_data - Output file /data/user/lneste/graphnet_export/Level2_IC86.2016_corsika.020904.000006.parquet already exists. Overwriting.\u001b[0m\n"
     ]
    },
    {
     "name": "stderr",
     "output_type": "stream",
     "text": [
      " 19%|\u001b[32m██████████████████████▍                                                                                              \u001b[0m| 19/99 [03:23<14:36, 10.96s/file(s)]\u001b[0m"
     ]
    },
    {
     "name": "stdout",
     "output_type": "stream",
     "text": [
      "\u001b[1;34mgraphnet\u001b[0m [MainProcess] \u001b[33mWARNING \u001b[0m 2023-05-02 11:32:13 - ParquetDataConverter.save_data - Output file /data/user/lneste/graphnet_export/Level2_IC86.2016_corsika.020904.000019.parquet already exists. Overwriting.\u001b[0m\n"
     ]
    },
    {
     "name": "stderr",
     "output_type": "stream",
     "text": [
      " 21%|\u001b[32m████████████████████████▊                                                                                            \u001b[0m| 21/99 [03:44<13:57, 10.74s/file(s)]\u001b[0m"
     ]
    },
    {
     "name": "stdout",
     "output_type": "stream",
     "text": [
      "\u001b[1;34mgraphnet\u001b[0m [MainProcess] \u001b[33mWARNING \u001b[0m 2023-05-02 11:32:33 - ParquetDataConverter.save_data - Output file /data/user/lneste/graphnet_export/Level2_IC86.2016_corsika.020904.000040.parquet already exists. Overwriting.\u001b[0m\n"
     ]
    },
    {
     "name": "stderr",
     "output_type": "stream",
     "text": [
      " 23%|\u001b[32m███████████████████████████▏                                                                                         \u001b[0m| 23/99 [04:08<14:37, 11.55s/file(s)]\u001b[0m"
     ]
    },
    {
     "name": "stdout",
     "output_type": "stream",
     "text": [
      "\u001b[1;34mgraphnet\u001b[0m [MainProcess] \u001b[33mWARNING \u001b[0m 2023-05-02 11:32:57 - ParquetDataConverter.save_data - Output file /data/user/lneste/graphnet_export/Level2_IC86.2016_corsika.020904.000047.parquet already exists. Overwriting.\u001b[0m\n"
     ]
    },
    {
     "name": "stderr",
     "output_type": "stream",
     "text": [
      " 24%|\u001b[32m████████████████████████████▎                                                                                        \u001b[0m| 24/99 [04:19<13:59, 11.19s/file(s)]\u001b[0m"
     ]
    },
    {
     "name": "stdout",
     "output_type": "stream",
     "text": [
      "\u001b[1;34mgraphnet\u001b[0m [MainProcess] \u001b[33mWARNING \u001b[0m 2023-05-02 11:33:08 - ParquetDataConverter.save_data - Output file /data/user/lneste/graphnet_export/Level2_IC86.2016_corsika.020904.000052.parquet already exists. Overwriting.\u001b[0m\n"
     ]
    },
    {
     "name": "stderr",
     "output_type": "stream",
     "text": [
      " 25%|\u001b[32m█████████████████████████████▌                                                                                       \u001b[0m| 25/99 [04:29<13:39, 11.07s/file(s)]\u001b[0m"
     ]
    },
    {
     "name": "stdout",
     "output_type": "stream",
     "text": [
      "\u001b[1;34mgraphnet\u001b[0m [MainProcess] \u001b[33mWARNING \u001b[0m 2023-05-02 11:33:21 - ParquetDataConverter.save_data - Output file /data/user/lneste/graphnet_export/Level2_IC86.2016_corsika.020904.000070.parquet already exists. Overwriting.\u001b[0m\n"
     ]
    },
    {
     "name": "stderr",
     "output_type": "stream",
     "text": [
      " 27%|\u001b[32m███████████████████████████████▉                                                                                     \u001b[0m| 27/99 [04:53<13:34, 11.32s/file(s)]\u001b[0m"
     ]
    },
    {
     "name": "stdout",
     "output_type": "stream",
     "text": [
      "\u001b[1;34mgraphnet\u001b[0m [MainProcess] \u001b[33mWARNING \u001b[0m 2023-05-02 11:33:42 - ParquetDataConverter.save_data - Output file /data/user/lneste/graphnet_export/Level2_IC86.2016_corsika.020904.000002.parquet already exists. Overwriting.\u001b[0m\n"
     ]
    },
    {
     "name": "stderr",
     "output_type": "stream",
     "text": [
      " 28%|\u001b[32m█████████████████████████████████                                                                                    \u001b[0m| 28/99 [05:03<13:00, 11.00s/file(s)]\u001b[0m"
     ]
    },
    {
     "name": "stdout",
     "output_type": "stream",
     "text": [
      "\u001b[1;34mgraphnet\u001b[0m [MainProcess] \u001b[33mWARNING \u001b[0m 2023-05-02 11:33:53 - ParquetDataConverter.save_data - Output file /data/user/lneste/graphnet_export/Level2_IC86.2016_corsika.020904.000036.parquet already exists. Overwriting.\u001b[0m\n"
     ]
    },
    {
     "name": "stderr",
     "output_type": "stream",
     "text": [
      " 29%|\u001b[32m██████████████████████████████████▎                                                                                  \u001b[0m| 29/99 [05:14<12:46, 10.94s/file(s)]\u001b[0m"
     ]
    },
    {
     "name": "stdout",
     "output_type": "stream",
     "text": [
      "\u001b[1;34mgraphnet\u001b[0m [MainProcess] \u001b[33mWARNING \u001b[0m 2023-05-02 11:34:03 - ParquetDataConverter.save_data - Output file /data/user/lneste/graphnet_export/Level2_IC86.2016_corsika.020904.000042.parquet already exists. Overwriting.\u001b[0m\n"
     ]
    },
    {
     "name": "stderr",
     "output_type": "stream",
     "text": [
      " 30%|\u001b[32m███████████████████████████████████▍                                                                                 \u001b[0m| 30/99 [05:25<12:21, 10.75s/file(s)]\u001b[0m"
     ]
    },
    {
     "name": "stdout",
     "output_type": "stream",
     "text": [
      "\u001b[1;34mgraphnet\u001b[0m [MainProcess] \u001b[33mWARNING \u001b[0m 2023-05-02 11:34:14 - ParquetDataConverter.save_data - Output file /data/user/lneste/graphnet_export/Level2_IC86.2016_corsika.020904.000079.parquet already exists. Overwriting.\u001b[0m\n"
     ]
    },
    {
     "name": "stderr",
     "output_type": "stream",
     "text": [
      " 31%|\u001b[32m████████████████████████████████████▋                                                                                \u001b[0m| 31/99 [05:35<12:12, 10.77s/file(s)]\u001b[0m"
     ]
    },
    {
     "name": "stdout",
     "output_type": "stream",
     "text": [
      "\u001b[1;34mgraphnet\u001b[0m [MainProcess] \u001b[33mWARNING \u001b[0m 2023-05-02 11:34:25 - ParquetDataConverter.save_data - Output file /data/user/lneste/graphnet_export/Level2_IC86.2016_corsika.020904.000008.parquet already exists. Overwriting.\u001b[0m\n"
     ]
    },
    {
     "name": "stderr",
     "output_type": "stream",
     "text": [
      " 34%|\u001b[32m████████████████████████████████████████▏                                                                            \u001b[0m| 34/99 [06:10<12:22, 11.43s/file(s)]\u001b[0m"
     ]
    },
    {
     "name": "stdout",
     "output_type": "stream",
     "text": [
      "\u001b[1;34mgraphnet\u001b[0m [MainProcess] \u001b[33mWARNING \u001b[0m 2023-05-02 11:35:00 - ParquetDataConverter.save_data - Output file /data/user/lneste/graphnet_export/Level2_IC86.2016_corsika.020904.000096.parquet already exists. Overwriting.\u001b[0m\n"
     ]
    },
    {
     "name": "stderr",
     "output_type": "stream",
     "text": [
      " 35%|\u001b[32m█████████████████████████████████████████▎                                                                           \u001b[0m| 35/99 [06:21<12:04, 11.33s/file(s)]\u001b[0m"
     ]
    },
    {
     "name": "stdout",
     "output_type": "stream",
     "text": [
      "\u001b[1;34mgraphnet\u001b[0m [MainProcess] \u001b[33mWARNING \u001b[0m 2023-05-02 11:35:11 - ParquetDataConverter.save_data - Output file /data/user/lneste/graphnet_export/Level2_IC86.2016_corsika.020904.000011.parquet already exists. Overwriting.\u001b[0m\n"
     ]
    },
    {
     "name": "stderr",
     "output_type": "stream",
     "text": [
      " 36%|\u001b[32m██████████████████████████████████████████▌                                                                          \u001b[0m| 36/99 [06:33<12:00, 11.44s/file(s)]\u001b[0m"
     ]
    },
    {
     "name": "stdout",
     "output_type": "stream",
     "text": [
      "\u001b[1;34mgraphnet\u001b[0m [MainProcess] \u001b[33mWARNING \u001b[0m 2023-05-02 11:35:22 - ParquetDataConverter.save_data - Output file /data/user/lneste/graphnet_export/Level2_IC86.2016_corsika.020904.000074.parquet already exists. Overwriting.\u001b[0m\n"
     ]
    },
    {
     "name": "stderr",
     "output_type": "stream",
     "text": [
      " 38%|\u001b[32m████████████████████████████████████████████▉                                                                        \u001b[0m| 38/99 [06:56<11:33, 11.37s/file(s)]\u001b[0m"
     ]
    },
    {
     "name": "stdout",
     "output_type": "stream",
     "text": [
      "\u001b[1;34mgraphnet\u001b[0m [MainProcess] \u001b[33mWARNING \u001b[0m 2023-05-02 11:35:44 - ParquetDataConverter.save_data - Output file /data/user/lneste/graphnet_export/Level2_IC86.2016_corsika.020904.000050.parquet already exists. Overwriting.\u001b[0m\n"
     ]
    },
    {
     "name": "stderr",
     "output_type": "stream",
     "text": [
      " 39%|\u001b[32m██████████████████████████████████████████████                                                                       \u001b[0m| 39/99 [07:06<11:05, 11.10s/file(s)]\u001b[0m"
     ]
    },
    {
     "name": "stdout",
     "output_type": "stream",
     "text": [
      "\u001b[1;34mgraphnet\u001b[0m [MainProcess] \u001b[33mWARNING \u001b[0m 2023-05-02 11:35:56 - ParquetDataConverter.save_data - Output file /data/user/lneste/graphnet_export/Level2_IC86.2016_corsika.020904.000034.parquet already exists. Overwriting.\u001b[0m\n"
     ]
    },
    {
     "name": "stderr",
     "output_type": "stream",
     "text": [
      " 40%|\u001b[32m███████████████████████████████████████████████▎                                                                     \u001b[0m| 40/99 [07:17<11:01, 11.22s/file(s)]\u001b[0m"
     ]
    },
    {
     "name": "stdout",
     "output_type": "stream",
     "text": [
      "\u001b[1;34mgraphnet\u001b[0m [MainProcess] \u001b[33mWARNING \u001b[0m 2023-05-02 11:36:08 - ParquetDataConverter.save_data - Output file /data/user/lneste/graphnet_export/Level2_IC86.2016_corsika.020904.000071.parquet already exists. Overwriting.\u001b[0m\n"
     ]
    },
    {
     "name": "stderr",
     "output_type": "stream",
     "text": [
      " 42%|\u001b[32m█████████████████████████████████████████████████▋                                                                   \u001b[0m| 42/99 [07:41<10:47, 11.35s/file(s)]\u001b[0m"
     ]
    },
    {
     "name": "stdout",
     "output_type": "stream",
     "text": [
      "\u001b[1;34mgraphnet\u001b[0m [MainProcess] \u001b[33mWARNING \u001b[0m 2023-05-02 11:36:30 - ParquetDataConverter.save_data - Output file /data/user/lneste/graphnet_export/Level2_IC86.2016_corsika.020904.000010.parquet already exists. Overwriting.\u001b[0m\n"
     ]
    },
    {
     "name": "stderr",
     "output_type": "stream",
     "text": [
      " 44%|\u001b[32m████████████████████████████████████████████████████                                                                 \u001b[0m| 44/99 [08:02<09:58, 10.88s/file(s)]\u001b[0m"
     ]
    },
    {
     "name": "stdout",
     "output_type": "stream",
     "text": [
      "\u001b[1;34mgraphnet\u001b[0m [MainProcess] \u001b[33mWARNING \u001b[0m 2023-05-02 11:36:51 - ParquetDataConverter.save_data - Output file /data/user/lneste/graphnet_export/Level2_IC86.2016_corsika.020904.000095.parquet already exists. Overwriting.\u001b[0m\n"
     ]
    },
    {
     "name": "stderr",
     "output_type": "stream",
     "text": [
      " 46%|\u001b[32m██████████████████████████████████████████████████████▎                                                              \u001b[0m| 46/99 [08:27<10:22, 11.75s/file(s)]\u001b[0m"
     ]
    },
    {
     "name": "stdout",
     "output_type": "stream",
     "text": [
      "\u001b[1;34mgraphnet\u001b[0m [MainProcess] \u001b[33mWARNING \u001b[0m 2023-05-02 11:37:16 - ParquetDataConverter.save_data - Output file /data/user/lneste/graphnet_export/Level2_IC86.2016_corsika.020904.000091.parquet already exists. Overwriting.\u001b[0m\n"
     ]
    },
    {
     "name": "stderr",
     "output_type": "stream",
     "text": [
      " 48%|\u001b[32m████████████████████████████████████████████████████████▋                                                            \u001b[0m| 48/99 [08:48<09:27, 11.12s/file(s)]\u001b[0m"
     ]
    },
    {
     "name": "stdout",
     "output_type": "stream",
     "text": [
      "\u001b[1;34mgraphnet\u001b[0m [MainProcess] \u001b[33mWARNING \u001b[0m 2023-05-02 11:37:37 - ParquetDataConverter.save_data - Output file /data/user/lneste/graphnet_export/Level2_IC86.2016_corsika.020904.000085.parquet already exists. Overwriting.\u001b[0m\n"
     ]
    },
    {
     "name": "stderr",
     "output_type": "stream",
     "text": [
      " 49%|\u001b[32m█████████████████████████████████████████████████████████▉                                                           \u001b[0m| 49/99 [08:58<09:08, 10.98s/file(s)]\u001b[0m"
     ]
    },
    {
     "name": "stdout",
     "output_type": "stream",
     "text": [
      "\u001b[1;34mgraphnet\u001b[0m [MainProcess] \u001b[33mWARNING \u001b[0m 2023-05-02 11:37:49 - ParquetDataConverter.save_data - Output file /data/user/lneste/graphnet_export/Level2_IC86.2016_corsika.020904.000023.parquet already exists. Overwriting.\u001b[0m\n"
     ]
    },
    {
     "name": "stderr",
     "output_type": "stream",
     "text": [
      " 52%|\u001b[32m████████████████████████████████████████████████████████████▎                                                        \u001b[0m| 51/99 [09:22<09:01, 11.28s/file(s)]\u001b[0m"
     ]
    },
    {
     "name": "stdout",
     "output_type": "stream",
     "text": [
      "\u001b[1;34mgraphnet\u001b[0m [MainProcess] \u001b[33mWARNING \u001b[0m 2023-05-02 11:38:11 - ParquetDataConverter.save_data - Output file /data/user/lneste/graphnet_export/Level2_IC86.2016_corsika.020904.000084.parquet already exists. Overwriting.\u001b[0m\n"
     ]
    },
    {
     "name": "stderr",
     "output_type": "stream",
     "text": [
      " 53%|\u001b[32m█████████████████████████████████████████████████████████████▍                                                       \u001b[0m| 52/99 [09:33<08:46, 11.21s/file(s)]\u001b[0m"
     ]
    },
    {
     "name": "stdout",
     "output_type": "stream",
     "text": [
      "\u001b[1;34mgraphnet\u001b[0m [MainProcess] \u001b[33mWARNING \u001b[0m 2023-05-02 11:38:21 - ParquetDataConverter.save_data - Output file /data/user/lneste/graphnet_export/Level2_IC86.2016_corsika.020904.000077.parquet already exists. Overwriting.\u001b[0m\n"
     ]
    },
    {
     "name": "stderr",
     "output_type": "stream",
     "text": [
      " 54%|\u001b[32m██████████████████████████████████████████████████████████████▋                                                      \u001b[0m| 53/99 [09:43<08:22, 10.93s/file(s)]\u001b[0m"
     ]
    },
    {
     "name": "stdout",
     "output_type": "stream",
     "text": [
      "\u001b[1;34mgraphnet\u001b[0m [MainProcess] \u001b[33mWARNING \u001b[0m 2023-05-02 11:38:31 - ParquetDataConverter.save_data - Output file /data/user/lneste/graphnet_export/Level2_IC86.2016_corsika.020904.000053.parquet already exists. Overwriting.\u001b[0m\n"
     ]
    },
    {
     "name": "stderr",
     "output_type": "stream",
     "text": [
      " 55%|\u001b[32m███████████████████████████████████████████████████████████████▊                                                     \u001b[0m| 54/99 [09:53<07:58, 10.64s/file(s)]\u001b[0m"
     ]
    },
    {
     "name": "stdout",
     "output_type": "stream",
     "text": [
      "\u001b[1;34mgraphnet\u001b[0m [MainProcess] \u001b[33mWARNING \u001b[0m 2023-05-02 11:38:42 - ParquetDataConverter.save_data - Output file /data/user/lneste/graphnet_export/Level2_IC86.2016_corsika.020904.000009.parquet already exists. Overwriting.\u001b[0m\n"
     ]
    },
    {
     "name": "stderr",
     "output_type": "stream",
     "text": [
      " 57%|\u001b[32m██████████████████████████████████████████████████████████████████▏                                                  \u001b[0m| 56/99 [10:15<07:53, 11.01s/file(s)]\u001b[0m"
     ]
    },
    {
     "name": "stdout",
     "output_type": "stream",
     "text": [
      "\u001b[1;34mgraphnet\u001b[0m [MainProcess] \u001b[33mWARNING \u001b[0m 2023-05-02 11:39:05 - ParquetDataConverter.save_data - Output file /data/user/lneste/graphnet_export/Level2_IC86.2016_corsika.020904.000018.parquet already exists. Overwriting.\u001b[0m\n"
     ]
    },
    {
     "name": "stderr",
     "output_type": "stream",
     "text": [
      " 58%|\u001b[32m███████████████████████████████████████████████████████████████████▎                                                 \u001b[0m| 57/99 [10:27<07:48, 11.16s/file(s)]\u001b[0m"
     ]
    },
    {
     "name": "stdout",
     "output_type": "stream",
     "text": [
      "\u001b[1;34mgraphnet\u001b[0m [MainProcess] \u001b[33mWARNING \u001b[0m 2023-05-02 11:39:16 - ParquetDataConverter.save_data - Output file /data/user/lneste/graphnet_export/Level2_IC86.2016_corsika.020904.000098.parquet already exists. Overwriting.\u001b[0m\n"
     ]
    },
    {
     "name": "stderr",
     "output_type": "stream",
     "text": [
      " 59%|\u001b[32m████████████████████████████████████████████████████████████████████▌                                                \u001b[0m| 58/99 [10:37<07:27, 10.92s/file(s)]\u001b[0m"
     ]
    },
    {
     "name": "stdout",
     "output_type": "stream",
     "text": [
      "\u001b[1;34mgraphnet\u001b[0m [MainProcess] \u001b[33mWARNING \u001b[0m 2023-05-02 11:39:26 - ParquetDataConverter.save_data - Output file /data/user/lneste/graphnet_export/Level2_IC86.2016_corsika.020904.000078.parquet already exists. Overwriting.\u001b[0m\n"
     ]
    },
    {
     "name": "stderr",
     "output_type": "stream",
     "text": [
      " 60%|\u001b[32m█████████████████████████████████████████████████████████████████████▋                                               \u001b[0m| 59/99 [10:47<07:05, 10.63s/file(s)]\u001b[0m"
     ]
    },
    {
     "name": "stdout",
     "output_type": "stream",
     "text": [
      "\u001b[1;34mgraphnet\u001b[0m [MainProcess] \u001b[33mWARNING \u001b[0m 2023-05-02 11:39:37 - ParquetDataConverter.save_data - Output file /data/user/lneste/graphnet_export/Level2_IC86.2016_corsika.020904.000031.parquet already exists. Overwriting.\u001b[0m\n"
     ]
    },
    {
     "name": "stderr",
     "output_type": "stream",
     "text": [
      " 61%|\u001b[32m██████████████████████████████████████████████████████████████████████▉                                              \u001b[0m| 60/99 [10:58<07:01, 10.80s/file(s)]\u001b[0m"
     ]
    },
    {
     "name": "stdout",
     "output_type": "stream",
     "text": [
      "\u001b[1;34mgraphnet\u001b[0m [MainProcess] \u001b[33mWARNING \u001b[0m 2023-05-02 11:39:48 - ParquetDataConverter.save_data - Output file /data/user/lneste/graphnet_export/Level2_IC86.2016_corsika.020904.000000.parquet already exists. Overwriting.\u001b[0m\n"
     ]
    },
    {
     "name": "stderr",
     "output_type": "stream",
     "text": [
      " 62%|\u001b[32m████████████████████████████████████████████████████████████████████████                                             \u001b[0m| 61/99 [11:09<06:49, 10.79s/file(s)]\u001b[0m"
     ]
    },
    {
     "name": "stdout",
     "output_type": "stream",
     "text": [
      "\u001b[1;34mgraphnet\u001b[0m [MainProcess] \u001b[33mWARNING \u001b[0m 2023-05-02 11:39:58 - ParquetDataConverter.save_data - Output file /data/user/lneste/graphnet_export/Level2_IC86.2016_corsika.020904.000051.parquet already exists. Overwriting.\u001b[0m\n"
     ]
    },
    {
     "name": "stderr",
     "output_type": "stream",
     "text": [
      " 63%|\u001b[32m█████████████████████████████████████████████████████████████████████████▎                                           \u001b[0m| 62/99 [11:20<06:36, 10.72s/file(s)]\u001b[0m"
     ]
    },
    {
     "name": "stdout",
     "output_type": "stream",
     "text": [
      "\u001b[1;34mgraphnet\u001b[0m [MainProcess] \u001b[33mWARNING \u001b[0m 2023-05-02 11:40:09 - ParquetDataConverter.save_data - Output file /data/user/lneste/graphnet_export/Level2_IC86.2016_corsika.020904.000026.parquet already exists. Overwriting.\u001b[0m\n"
     ]
    },
    {
     "name": "stderr",
     "output_type": "stream",
     "text": [
      " 64%|\u001b[32m██████████████████████████████████████████████████████████████████████████▍                                          \u001b[0m| 63/99 [11:31<06:29, 10.81s/file(s)]\u001b[0m"
     ]
    },
    {
     "name": "stdout",
     "output_type": "stream",
     "text": [
      "\u001b[1;34mgraphnet\u001b[0m [MainProcess] \u001b[33mWARNING \u001b[0m 2023-05-02 11:40:19 - ParquetDataConverter.save_data - Output file /data/user/lneste/graphnet_export/Level2_IC86.2016_corsika.020904.000037.parquet already exists. Overwriting.\u001b[0m\n"
     ]
    },
    {
     "name": "stderr",
     "output_type": "stream",
     "text": [
      " 65%|\u001b[32m███████████████████████████████████████████████████████████████████████████▋                                         \u001b[0m| 64/99 [11:40<06:06, 10.47s/file(s)]\u001b[0m"
     ]
    },
    {
     "name": "stdout",
     "output_type": "stream",
     "text": [
      "\u001b[1;34mgraphnet\u001b[0m [MainProcess] \u001b[33mWARNING \u001b[0m 2023-05-02 11:40:30 - ParquetDataConverter.save_data - Output file /data/user/lneste/graphnet_export/Level2_IC86.2016_corsika.020904.000062.parquet already exists. Overwriting.\u001b[0m\n"
     ]
    },
    {
     "name": "stderr",
     "output_type": "stream",
     "text": [
      " 66%|\u001b[32m████████████████████████████████████████████████████████████████████████████▊                                        \u001b[0m| 65/99 [11:52<06:02, 10.66s/file(s)]\u001b[0m"
     ]
    },
    {
     "name": "stdout",
     "output_type": "stream",
     "text": [
      "\u001b[1;34mgraphnet\u001b[0m [MainProcess] \u001b[33mWARNING \u001b[0m 2023-05-02 11:40:40 - ParquetDataConverter.save_data - Output file /data/user/lneste/graphnet_export/Level2_IC86.2016_corsika.020904.000029.parquet already exists. Overwriting.\u001b[0m\n"
     ]
    },
    {
     "name": "stderr",
     "output_type": "stream",
     "text": [
      " 67%|\u001b[32m██████████████████████████████████████████████████████████████████████████████                                       \u001b[0m| 66/99 [12:02<05:49, 10.58s/file(s)]\u001b[0m"
     ]
    },
    {
     "name": "stdout",
     "output_type": "stream",
     "text": [
      "\u001b[1;34mgraphnet\u001b[0m [MainProcess] \u001b[33mWARNING \u001b[0m 2023-05-02 11:40:51 - ParquetDataConverter.save_data - Output file /data/user/lneste/graphnet_export/Level2_IC86.2016_corsika.020904.000017.parquet already exists. Overwriting.\u001b[0m\n"
     ]
    },
    {
     "name": "stderr",
     "output_type": "stream",
     "text": [
      " 68%|\u001b[32m███████████████████████████████████████████████████████████████████████████████▏                                     \u001b[0m| 67/99 [12:12<05:36, 10.51s/file(s)]\u001b[0m"
     ]
    },
    {
     "name": "stdout",
     "output_type": "stream",
     "text": [
      "\u001b[1;34mgraphnet\u001b[0m [MainProcess] \u001b[33mWARNING \u001b[0m 2023-05-02 11:41:02 - ParquetDataConverter.save_data - Output file /data/user/lneste/graphnet_export/Level2_IC86.2016_corsika.020904.000081.parquet already exists. Overwriting.\u001b[0m\n"
     ]
    },
    {
     "name": "stderr",
     "output_type": "stream",
     "text": [
      " 69%|\u001b[32m████████████████████████████████████████████████████████████████████████████████▎                                    \u001b[0m| 68/99 [12:24<05:36, 10.87s/file(s)]\u001b[0m"
     ]
    },
    {
     "name": "stdout",
     "output_type": "stream",
     "text": [
      "\u001b[1;34mgraphnet\u001b[0m [MainProcess] \u001b[33mWARNING \u001b[0m 2023-05-02 11:41:13 - ParquetDataConverter.save_data - Output file /data/user/lneste/graphnet_export/Level2_IC86.2016_corsika.020904.000082.parquet already exists. Overwriting.\u001b[0m\n"
     ]
    },
    {
     "name": "stderr",
     "output_type": "stream",
     "text": [
      " 70%|\u001b[32m█████████████████████████████████████████████████████████████████████████████████▌                                   \u001b[0m| 69/99 [12:34<05:21, 10.73s/file(s)]\u001b[0m"
     ]
    },
    {
     "name": "stdout",
     "output_type": "stream",
     "text": [
      "\u001b[1;34mgraphnet\u001b[0m [MainProcess] \u001b[33mWARNING \u001b[0m 2023-05-02 11:41:25 - ParquetDataConverter.save_data - Output file /data/user/lneste/graphnet_export/Level2_IC86.2016_corsika.020904.000043.parquet already exists. Overwriting.\u001b[0m\n"
     ]
    },
    {
     "name": "stderr",
     "output_type": "stream",
     "text": [
      " 73%|\u001b[32m█████████████████████████████████████████████████████████████████████████████████████                                \u001b[0m| 72/99 [13:11<05:11, 11.53s/file(s)]\u001b[0m"
     ]
    },
    {
     "name": "stdout",
     "output_type": "stream",
     "text": [
      "\u001b[1;34mgraphnet\u001b[0m [MainProcess] \u001b[33mWARNING \u001b[0m 2023-05-02 11:41:59 - ParquetDataConverter.save_data - Output file /data/user/lneste/graphnet_export/Level2_IC86.2016_corsika.020904.000033.parquet already exists. Overwriting.\u001b[0m\n"
     ]
    },
    {
     "name": "stderr",
     "output_type": "stream",
     "text": [
      " 74%|\u001b[32m██████████████████████████████████████████████████████████████████████████████████████▎                              \u001b[0m| 73/99 [13:21<04:50, 11.16s/file(s)]\u001b[0m"
     ]
    },
    {
     "name": "stdout",
     "output_type": "stream",
     "text": [
      "\u001b[1;34mgraphnet\u001b[0m [MainProcess] \u001b[33mWARNING \u001b[0m 2023-05-02 11:42:10 - ParquetDataConverter.save_data - Output file /data/user/lneste/graphnet_export/Level2_IC86.2016_corsika.020904.000089.parquet already exists. Overwriting.\u001b[0m\n"
     ]
    },
    {
     "name": "stderr",
     "output_type": "stream",
     "text": [
      " 75%|\u001b[32m███████████████████████████████████████████████████████████████████████████████████████▍                             \u001b[0m| 74/99 [13:32<04:36, 11.07s/file(s)]\u001b[0m"
     ]
    },
    {
     "name": "stdout",
     "output_type": "stream",
     "text": [
      "\u001b[1;34mgraphnet\u001b[0m [MainProcess] \u001b[33mWARNING \u001b[0m 2023-05-02 11:42:20 - ParquetDataConverter.save_data - Output file /data/user/lneste/graphnet_export/Level2_IC86.2016_corsika.020904.000025.parquet already exists. Overwriting.\u001b[0m\n"
     ]
    },
    {
     "name": "stderr",
     "output_type": "stream",
     "text": [
      " 76%|\u001b[32m████████████████████████████████████████████████████████████████████████████████████████▋                            \u001b[0m| 75/99 [13:41<04:16, 10.69s/file(s)]\u001b[0m"
     ]
    },
    {
     "name": "stdout",
     "output_type": "stream",
     "text": [
      "\u001b[1;34mgraphnet\u001b[0m [MainProcess] \u001b[33mWARNING \u001b[0m 2023-05-02 11:42:30 - ParquetDataConverter.save_data - Output file /data/user/lneste/graphnet_export/Level2_IC86.2016_corsika.020904.000012.parquet already exists. Overwriting.\u001b[0m\n"
     ]
    },
    {
     "name": "stderr",
     "output_type": "stream",
     "text": [
      " 82%|\u001b[32m███████████████████████████████████████████████████████████████████████████████████████████████▋                     \u001b[0m| 81/99 [14:44<03:09, 10.55s/file(s)]\u001b[0m"
     ]
    },
    {
     "name": "stdout",
     "output_type": "stream",
     "text": [
      "\u001b[1;34mgraphnet\u001b[0m [MainProcess] \u001b[33mWARNING \u001b[0m 2023-05-02 11:43:34 - ParquetDataConverter.save_data - Output file /data/user/lneste/graphnet_export/Level2_IC86.2016_corsika.020904.000014.parquet already exists. Overwriting.\u001b[0m\n"
     ]
    },
    {
     "name": "stderr",
     "output_type": "stream",
     "text": [
      " 83%|\u001b[32m████████████████████████████████████████████████████████████████████████████████████████████████▉                    \u001b[0m| 82/99 [14:55<03:02, 10.71s/file(s)]\u001b[0m"
     ]
    },
    {
     "name": "stdout",
     "output_type": "stream",
     "text": [
      "\u001b[1;34mgraphnet\u001b[0m [MainProcess] \u001b[33mWARNING \u001b[0m 2023-05-02 11:43:45 - ParquetDataConverter.save_data - Output file /data/user/lneste/graphnet_export/Level2_IC86.2016_corsika.020904.000048.parquet already exists. Overwriting.\u001b[0m\n"
     ]
    },
    {
     "name": "stderr",
     "output_type": "stream",
     "text": [
      " 84%|\u001b[32m██████████████████████████████████████████████████████████████████████████████████████████████████                   \u001b[0m| 83/99 [15:06<02:52, 10.79s/file(s)]\u001b[0m"
     ]
    },
    {
     "name": "stdout",
     "output_type": "stream",
     "text": [
      "\u001b[1;34mgraphnet\u001b[0m [MainProcess] \u001b[33mWARNING \u001b[0m 2023-05-02 11:43:55 - ParquetDataConverter.save_data - Output file /data/user/lneste/graphnet_export/Level2_IC86.2016_corsika.020904.000061.parquet already exists. Overwriting.\u001b[0m\n"
     ]
    },
    {
     "name": "stderr",
     "output_type": "stream",
     "text": [
      " 85%|\u001b[32m███████████████████████████████████████████████████████████████████████████████████████████████████▎                 \u001b[0m| 84/99 [15:17<02:39, 10.64s/file(s)]\u001b[0m"
     ]
    },
    {
     "name": "stdout",
     "output_type": "stream",
     "text": [
      "\u001b[1;34mgraphnet\u001b[0m [MainProcess] \u001b[33mWARNING \u001b[0m 2023-05-02 11:44:06 - ParquetDataConverter.save_data - Output file /data/user/lneste/graphnet_export/Level2_IC86.2016_corsika.020904.000028.parquet already exists. Overwriting.\u001b[0m\n"
     ]
    },
    {
     "name": "stderr",
     "output_type": "stream",
     "text": [
      " 86%|\u001b[32m████████████████████████████████████████████████████████████████████████████████████████████████████▍                \u001b[0m| 85/99 [15:27<02:29, 10.69s/file(s)]\u001b[0m"
     ]
    },
    {
     "name": "stdout",
     "output_type": "stream",
     "text": [
      "\u001b[1;34mgraphnet\u001b[0m [MainProcess] \u001b[33mWARNING \u001b[0m 2023-05-02 11:44:20 - ParquetDataConverter.save_data - Output file /data/user/lneste/graphnet_export/Level2_IC86.2016_corsika.020904.000099.parquet already exists. Overwriting.\u001b[0m\n"
     ]
    },
    {
     "name": "stderr",
     "output_type": "stream",
     "text": [
      " 87%|\u001b[32m█████████████████████████████████████████████████████████████████████████████████████████████████████▋               \u001b[0m| 86/99 [15:42<02:33, 11.85s/file(s)]\u001b[0m"
     ]
    },
    {
     "name": "stdout",
     "output_type": "stream",
     "text": [
      "\u001b[1;34mgraphnet\u001b[0m [MainProcess] \u001b[33mWARNING \u001b[0m 2023-05-02 11:44:30 - ParquetDataConverter.save_data - Output file /data/user/lneste/graphnet_export/Level2_IC86.2016_corsika.020904.000021.parquet already exists. Overwriting.\u001b[0m\n"
     ]
    },
    {
     "name": "stderr",
     "output_type": "stream",
     "text": [
      " 89%|\u001b[32m████████████████████████████████████████████████████████████████████████████████████████████████████████             \u001b[0m| 88/99 [16:02<02:00, 10.92s/file(s)]\u001b[0m"
     ]
    },
    {
     "name": "stdout",
     "output_type": "stream",
     "text": [
      "\u001b[1;34mgraphnet\u001b[0m [MainProcess] \u001b[33mWARNING \u001b[0m 2023-05-02 11:44:51 - ParquetDataConverter.save_data - Output file /data/user/lneste/graphnet_export/Level2_IC86.2016_corsika.020904.000090.parquet already exists. Overwriting.\u001b[0m\n"
     ]
    },
    {
     "name": "stderr",
     "output_type": "stream",
     "text": [
      " 90%|\u001b[32m█████████████████████████████████████████████████████████████████████████████████████████████████████████▏           \u001b[0m| 89/99 [16:13<01:48, 10.83s/file(s)]\u001b[0m"
     ]
    },
    {
     "name": "stdout",
     "output_type": "stream",
     "text": [
      "\u001b[1;34mgraphnet\u001b[0m [MainProcess] \u001b[33mWARNING \u001b[0m 2023-05-02 11:45:01 - ParquetDataConverter.save_data - Output file /data/user/lneste/graphnet_export/Level2_IC86.2016_corsika.020904.000093.parquet already exists. Overwriting.\u001b[0m\n"
     ]
    },
    {
     "name": "stderr",
     "output_type": "stream",
     "text": [
      " 92%|\u001b[32m███████████████████████████████████████████████████████████████████████████████████████████████████████████▌         \u001b[0m| 91/99 [16:34<01:27, 10.88s/file(s)]\u001b[0m"
     ]
    },
    {
     "name": "stdout",
     "output_type": "stream",
     "text": [
      "\u001b[1;34mgraphnet\u001b[0m [MainProcess] \u001b[33mWARNING \u001b[0m 2023-05-02 11:45:24 - ParquetDataConverter.save_data - Output file /data/user/lneste/graphnet_export/Level2_IC86.2016_corsika.020904.000088.parquet already exists. Overwriting.\u001b[0m\n"
     ]
    },
    {
     "name": "stderr",
     "output_type": "stream",
     "text": [
      " 95%|\u001b[32m███████████████████████████████████████████████████████████████████████████████████████████████████████████████      \u001b[0m| 94/99 [17:08<00:55, 11.13s/file(s)]\u001b[0m"
     ]
    },
    {
     "name": "stdout",
     "output_type": "stream",
     "text": [
      "\u001b[1;34mgraphnet\u001b[0m [MainProcess] \u001b[33mWARNING \u001b[0m 2023-05-02 11:45:58 - ParquetDataConverter.save_data - Output file /data/user/lneste/graphnet_export/Level2_IC86.2016_corsika.020904.000024.parquet already exists. Overwriting.\u001b[0m\n"
     ]
    },
    {
     "name": "stderr",
     "output_type": "stream",
     "text": [
      " 96%|\u001b[32m████████████████████████████████████████████████████████████████████████████████████████████████████████████████▎    \u001b[0m| 95/99 [17:19<00:44, 11.11s/file(s)]\u001b[0m"
     ]
    },
    {
     "name": "stdout",
     "output_type": "stream",
     "text": [
      "\u001b[1;34mgraphnet\u001b[0m [MainProcess] \u001b[33mWARNING \u001b[0m 2023-05-02 11:46:10 - ParquetDataConverter.save_data - Output file /data/user/lneste/graphnet_export/Level2_IC86.2016_corsika.020904.000032.parquet already exists. Overwriting.\u001b[0m\n"
     ]
    },
    {
     "name": "stderr",
     "output_type": "stream",
     "text": [
      " 97%|\u001b[32m█████████████████████████████████████████████████████████████████████████████████████████████████████████████████▍   \u001b[0m| 96/99 [17:32<00:34, 11.51s/file(s)]\u001b[0m"
     ]
    },
    {
     "name": "stdout",
     "output_type": "stream",
     "text": [
      "\u001b[1;34mgraphnet\u001b[0m [MainProcess] \u001b[33mWARNING \u001b[0m 2023-05-02 11:46:21 - ParquetDataConverter.save_data - Output file /data/user/lneste/graphnet_export/Level2_IC86.2016_corsika.020904.000016.parquet already exists. Overwriting.\u001b[0m\n"
     ]
    },
    {
     "name": "stderr",
     "output_type": "stream",
     "text": [
      " 98%|\u001b[32m██████████████████████████████████████████████████████████████████████████████████████████████████████████████████▋  \u001b[0m| 97/99 [17:43<00:22, 11.42s/file(s)]\u001b[0m"
     ]
    },
    {
     "name": "stdout",
     "output_type": "stream",
     "text": [
      "\u001b[1;34mgraphnet\u001b[0m [MainProcess] \u001b[33mWARNING \u001b[0m 2023-05-02 11:46:31 - ParquetDataConverter.save_data - Output file /data/user/lneste/graphnet_export/Level2_IC86.2016_corsika.020904.000001.parquet already exists. Overwriting.\u001b[0m\n"
     ]
    },
    {
     "name": "stderr",
     "output_type": "stream",
     "text": [
      " 99%|\u001b[32m███████████████████████████████████████████████████████████████████████████████████████████████████████████████████▊ \u001b[0m| 98/99 [17:53<00:10, 10.85s/file(s)]\u001b[0m"
     ]
    },
    {
     "name": "stdout",
     "output_type": "stream",
     "text": [
      "\u001b[1;34mgraphnet\u001b[0m [MainProcess] \u001b[33mWARNING \u001b[0m 2023-05-02 11:46:41 - ParquetDataConverter.save_data - Output file /data/user/lneste/graphnet_export/Level2_IC86.2016_corsika.020904.000022.parquet already exists. Overwriting.\u001b[0m\n"
     ]
    },
    {
     "name": "stderr",
     "output_type": "stream",
     "text": [
      "100%|\u001b[32m█████████████████████████████████████████████████████████████████████████████████████████████████████████████████████\u001b[0m| 99/99 [18:03<00:00, 10.94s/file(s)]\u001b[0m\n"
     ]
    }
   ],
   "source": [
    "inputs = [\"/data/user/mhuennefeld/test_DNN_reco/leading_muons/data/added_I3MCTree/Corsika/20904/\"]\n",
    "outdir = \"/data/user/lneste/graphnet_export/\"\n",
    "\n",
    "converter: DataConverter = ParquetDataConverter(\n",
    "    [\n",
    "        I3FeatureExtractorIceCube86(\"SRTInIcePulses\"),\n",
    "        I3DNNExtractor()\n",
    "        ,\n",
    "#         I3TruthExtractor(),\n",
    "    ],\n",
    "    outdir,\n",
    "    gcd_rescue = \"/cvmfs/icecube.opensciencegrid.org/data/GCD/GeoCalibDetectorStatus_2020.Run134142.Pass2_V0.i3.gz\"\n",
    ")\n",
    "converter(inputs)"
   ]
  },
  {
   "cell_type": "code",
   "execution_count": 5,
   "id": "57af4ace",
   "metadata": {},
   "outputs": [
    {
     "name": "stdout",
     "output_type": "stream",
     "text": [
      "\u001b[1;34mgraphnet\u001b[0m [MainProcess] \u001b[32mINFO    \u001b[0m 2023-05-02 10:58:55 - ParquetDataConverter.execute - Saving results to /data/user/lneste/graphnet_export/\u001b[0m\n",
      "\u001b[1;34mgraphnet\u001b[0m [MainProcess] \u001b[32mINFO    \u001b[0m 2023-05-02 10:58:55 - ParquetDataConverter.get_map_function - Processing 99 I3 file(s) in main thread (not multiprocessing)\u001b[0m\n"
     ]
    },
    {
     "name": "stderr",
     "output_type": "stream",
     "text": [
      " 57%|\u001b[32m██████████████████████████████████████████████████████████████████▏                                                  \u001b[0m| 56/99 [10:17<09:57, 13.89s/file(s)]\u001b[0m"
     ]
    },
    {
     "name": "stdout",
     "output_type": "stream",
     "text": [
      "\u001b[1;34mgraphnet\u001b[0m [MainProcess] \u001b[33mWARNING \u001b[0m 2023-05-02 11:09:26 - ParquetDataConverter.save_data - Output file /data/user/lneste/graphnet_export/Level2_IC86.2016_corsika.020904.000057.parquet already exists. Overwriting.\u001b[0m\n"
     ]
    },
    {
     "name": "stderr",
     "output_type": "stream",
     "text": [
      " 71%|\u001b[32m██████████████████████████████████████████████████████████████████████████████████▋                                  \u001b[0m| 70/99 [12:54<05:20, 11.07s/file(s)]\u001b[0m"
     ]
    },
    {
     "name": "stdout",
     "output_type": "stream",
     "text": [
      "\u001b[1;34mgraphnet\u001b[0m [MainProcess] \u001b[33mWARNING \u001b[0m 2023-05-02 11:11:50 - ParquetDataConverter.execute - [ctrl+c] Exciting gracefully.\u001b[0m\n"
     ]
    },
    {
     "name": "stderr",
     "output_type": "stream",
     "text": [
      "\n"
     ]
    }
   ],
   "source": [
    "inputs = [\"/data/user/mhuennefeld/test_DNN_reco/leading_muons/data/added_I3MCTree/Corsika/20904/\"]\n",
    "outdir = \"/data/user/lneste/graphnet_export/\"\n",
    "\n",
    "converter: DataConverter = ParquetDataConverter(\n",
    "    [\n",
    "        I3GenericExtractor(\n",
    "            keys=[\n",
    "#                 \"SRTInIcePulses\",\n",
    "#                 \"I3MCTree\",\n",
    "                \"LabelsDeepLearning\"\n",
    "            ]\n",
    "        ),\n",
    "#         I3TruthExtractor(),\n",
    "    ],\n",
    "    outdir,\n",
    "    gcd_rescue = \"/cvmfs/icecube.opensciencegrid.org/data/GCD/GeoCalibDetectorStatus_2020.Run134142.Pass2_V0.i3.gz\"\n",
    ")\n",
    "converter(inputs)"
   ]
  },
  {
   "cell_type": "code",
   "execution_count": null,
   "id": "488c6e3d",
   "metadata": {},
   "outputs": [],
   "source": []
  }
 ],
 "metadata": {
  "kernelspec": {
   "display_name": "Python 3 (ipykernel)",
   "language": "python",
   "name": "python3"
  },
  "language_info": {
   "codemirror_mode": {
    "name": "ipython",
    "version": 3
   },
   "file_extension": ".py",
   "mimetype": "text/x-python",
   "name": "python",
   "nbconvert_exporter": "python",
   "pygments_lexer": "ipython3",
   "version": "3.10.2"
  }
 },
 "nbformat": 4,
 "nbformat_minor": 5
}
