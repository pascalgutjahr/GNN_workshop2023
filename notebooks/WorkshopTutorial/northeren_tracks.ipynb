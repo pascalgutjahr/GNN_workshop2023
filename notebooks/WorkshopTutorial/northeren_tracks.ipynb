{
 "cells": [
  {
   "cell_type": "markdown",
   "metadata": {},
   "source": [
    "# northeren_tracks Dataset\n",
    "\n",
    "The dataset only consists of neutrino events. <br>\n",
    "For information on how to use sqlite3 see documentation: https://docs.python.org/3/library/sqlite3.html \n",
    "1) Fetching table and column names:"
   ]
  },
  {
   "cell_type": "code",
   "execution_count": 1,
   "metadata": {},
   "outputs": [],
   "source": [
    "db_path = '/net/big-tank/POOL/projects/icecube/graphnet/workshop-2023/data/icecube/northern_tracks.db'"
   ]
  },
  {
   "cell_type": "code",
   "execution_count": 2,
   "metadata": {},
   "outputs": [
    {
     "name": "stdout",
     "output_type": "stream",
     "text": [
      "Table name: truth\n",
      "Column names: ['CascadeFilter_13' 'DeepCoreFilter_13' 'EventID' 'L3_oscNext_bool'\n",
      " 'L4_oscNext_bool' 'L5_oscNext_bool' 'L6_oscNext_bool' 'L7_oscNext_bool'\n",
      " 'MuonFilter_13' 'OnlineL2Filter_17' 'RunID' 'SubEventID' 'SubrunID'\n",
      " 'azimuth' 'dbang_decay_length' 'elasticity' 'energy' 'energy_track'\n",
      " 'event_no' 'event_time' 'inelasticity' 'interaction_type' 'pid'\n",
      " 'position_x' 'position_y' 'position_z' 'sim_type' 'stopped_muon'\n",
      " 'track_length' 'zenith']\n",
      "Table name: HVInIcePulses\n",
      "Column names: ['awtd' 'charge' 'dom_time' 'dom_x' 'dom_y' 'dom_z' 'event_no'\n",
      " 'event_time' 'fadc' 'hlc' 'is_bad_dom' 'is_bright_dom' 'is_errata_dom'\n",
      " 'is_saturated_dom' 'pmt_area' 'rde' 'width']\n",
      "Table name: tum_dnn\n",
      "Column names: ['event_no' 'tum_bdt_sigma' 'tum_dnn_energy_dst' 'tum_dnn_energy_hive']\n",
      "Table name: northeren_tracks_muon_labels\n",
      "Column names: ['classification' 'classification_emuon_cascade_energy'\n",
      " 'classification_emuon_deposited' 'classification_emuon_entry'\n",
      " 'classification_emuon_track_energy' 'classification_emuon_track_length'\n",
      " 'classification_label' 'coincident_muons' 'event_no']\n",
      "Table name: spline_mpe_ic\n",
      "Column names: ['azimuth_spline_mpe_ic' 'event_no' 'zenith_spline_mpe_ic']\n"
     ]
    }
   ],
   "source": [
    "import sqlite3\n",
    "import pandas as pd\n",
    "import numpy as np\n",
    "\n",
    "con = sqlite3.connect(db_path)\n",
    "\n",
    "# Getting table and column names\n",
    "query = 'select name from sqlite_master where type = \"table\"'\n",
    "table_names = pd.read_sql(query,con)\n",
    "\n",
    "for table_name in table_names['name']:\n",
    "    print(\"Table name:\", table_name)\n",
    "    # Getting column names of table\n",
    "    query = f\"SELECT * FROM {table_name} LIMIT 1\"\n",
    "    column_names = pd.read_sql(query,con).columns\n",
    "    print(\"Column names:\", np.array(column_names))"
   ]
  },
  {
   "cell_type": "markdown",
   "metadata": {},
   "source": [
    "2) Plotting distribution of energies <br>\n",
    "\n",
    "The 'energy' truth value describes the origional energy of the neutrino. <br>\n",
    "The 'classification_emuon_entry' truth value describes the muon energy when entering the detector. "
   ]
  },
  {
   "cell_type": "code",
   "execution_count": 3,
   "metadata": {},
   "outputs": [
    {
     "name": "stdout",
     "output_type": "stream",
     "text": [
      "0\n",
      "1\n"
     ]
    },
    {
     "name": "stderr",
     "output_type": "stream",
     "text": [
      "<ipython-input-3-7239e9891435>:21: UserWarning: Matplotlib is currently using agg, which is a non-GUI backend, so cannot show the figure.\n",
      "  plt.show()\n"
     ]
    }
   ],
   "source": [
    "import matplotlib.pyplot as plt\n",
    "import numpy as np\n",
    "import pandas as pd\n",
    "\n",
    "bins = 50\n",
    "colors = ['tab:blue', 'tab:orange']\n",
    "tables = ['truth', 'northeren_tracks_muon_labels']\n",
    "for count, i in enumerate(['energy', 'classification_emuon_entry']):\n",
    "    sql = f\"SELECT {i} FROM {tables[count]}\"\n",
    "    column_data = pd.read_sql(sql, con)\n",
    "    print(count)\n",
    "    plt.hist(np.log10(column_data), histtype = 'step', label= i, bins=bins, color=colors[count])\n",
    "    \n",
    "\n",
    "# Show plot\n",
    "plt.title(\"event energy\")\n",
    "plt.legend()\n",
    "plt.xlabel('energy [log10 GeV]')\n",
    "\n",
    "\n",
    "plt.show()\n",
    "\n",
    " "
   ]
  },
  {
   "cell_type": "markdown",
   "metadata": {},
   "source": [
    "3) Plotting distribution of xyz-coordinates of sensors"
   ]
  },
  {
   "cell_type": "code",
   "execution_count": 4,
   "metadata": {},
   "outputs": [
    {
     "name": "stdout",
     "output_type": "stream",
     "text": [
      "0\n",
      "1\n",
      "2\n"
     ]
    },
    {
     "name": "stderr",
     "output_type": "stream",
     "text": [
      "<ipython-input-4-49abafc3f4a5>:25: UserWarning: Matplotlib is currently using agg, which is a non-GUI backend, so cannot show the figure.\n",
      "  plt.show()\n"
     ]
    }
   ],
   "source": [
    "# WARNING: This cell can take up to 10 minutes to run!\n",
    "\n",
    "import matplotlib.pyplot as plt\n",
    "import numpy as np\n",
    "import pandas as pd\n",
    "\n",
    "bins = 50\n",
    "fig, ax = plt.subplots(3)\n",
    "colors = ['tab:blue', 'tab:orange', 'tab:green']\n",
    "for count, i in enumerate(['dom_x', 'dom_y', 'dom_z']):\n",
    "    sql = f\"SELECT {i} FROM HVInIcePulses\"\n",
    "    column_data = pd.read_sql(sql, con)\n",
    "    print(count)\n",
    "    ax[count].hist(column_data, histtype = 'step', label= i, bins=bins, color=colors[count])\n",
    "    ax[count].legend()\n",
    "    ax[count].set_yscale('log')\n",
    "\n",
    "\n",
    "# Show plot\n",
    "fig.suptitle(\"xyz-coordinates of sensors\")\n",
    "plt.subplots_adjust(hspace=0.4)\n",
    "plt.xlabel('positions [m]')\n",
    "\n",
    "\n",
    "plt.show()\n",
    " "
   ]
  },
  {
   "cell_type": "markdown",
   "metadata": {},
   "source": [
    "4) Plotting distributions of azimuth and zenith angle"
   ]
  },
  {
   "cell_type": "code",
   "execution_count": 5,
   "metadata": {},
   "outputs": [
    {
     "name": "stderr",
     "output_type": "stream",
     "text": [
      "<ipython-input-5-4eb5b6c1bc8f>:16: UserWarning: Matplotlib is currently using agg, which is a non-GUI backend, so cannot show the figure.\n",
      "  plt.show()\n"
     ]
    }
   ],
   "source": [
    "import matplotlib.pyplot as plt\n",
    "import numpy as np\n",
    "import pandas as pd\n",
    "\n",
    "bins = [50, 15]\n",
    "\n",
    "for count, i in enumerate(['azimuth', 'zenith']):\n",
    "    sql = f\"SELECT {i} FROM truth\"\n",
    "    column_data = pd.read_sql(sql, con)\n",
    "    plt.hist(column_data, histtype = 'step', label= i, bins=bins[count])\n",
    "\n",
    "# Show plot\n",
    "plt.title(\"azimuth zenith distribution\")\n",
    "plt.legend()\n",
    "plt.xlabel('angles [radians]')\n",
    "plt.show()\n"
   ]
  },
  {
   "cell_type": "code",
   "execution_count": null,
   "metadata": {},
   "outputs": [],
   "source": []
  }
 ],
 "metadata": {
  "kernelspec": {
   "display_name": "Python 3 (ipykernel)",
   "language": "python",
   "name": "python3"
  },
  "language_info": {
   "codemirror_mode": {
    "name": "ipython",
    "version": 3
   },
   "file_extension": ".py",
   "mimetype": "text/x-python",
   "name": "python",
   "nbconvert_exporter": "python",
   "pygments_lexer": "ipython3",
   "version": "3.8.10"
  }
 },
 "nbformat": 4,
 "nbformat_minor": 2
}
