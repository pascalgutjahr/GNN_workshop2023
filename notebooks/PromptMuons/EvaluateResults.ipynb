{
 "cells": [
  {
   "cell_type": "code",
   "execution_count": 1,
   "id": "65bd724f",
   "metadata": {},
   "outputs": [],
   "source": [
    "%matplotlib inline\n",
    "%load_ext autoreload\n",
    "%autoreload 2\n",
    "\n",
    "import os\n",
    "import pandas as pd\n",
    "os.environ['CUDA_VISIBLE_DEVICES'] = '1'\n",
    "from matplotlib import pyplot as plt\n"
   ]
  },
  {
   "cell_type": "markdown",
   "id": "f3241087",
   "metadata": {},
   "source": [
    "## Define Settings"
   ]
  },
  {
   "cell_type": "code",
   "execution_count": 2,
   "id": "33107757",
   "metadata": {},
   "outputs": [],
   "source": [
    "plot_dir = 'plots/'\n",
    "data_dir = 'data/'\n",
    "\n",
    "for directory in [plot_dir, data_dir]:\n",
    "    if not os.path.exists(directory):\n",
    "        print('Creating plot directory:', directory)\n",
    "        os.makedirs(directory)"
   ]
  },
  {
   "cell_type": "markdown",
   "id": "3c13b16a",
   "metadata": {},
   "source": [
    "#### Load Results"
   ]
  },
  {
   "cell_type": "code",
   "execution_count": 3,
   "id": "93afc441",
   "metadata": {},
   "outputs": [],
   "source": [
    "results = pd.read_csv('/home/pgutjahr/software/graphnet/data/examples/output/train_model_without_configs/20904_labels/dynedge_DNNLabel_TotalDepositedEnergy_example/results.csv')\n"
   ]
  },
  {
   "cell_type": "code",
   "execution_count": 4,
   "id": "5c4b95f0",
   "metadata": {},
   "outputs": [
    {
     "data": {
      "text/html": [
       "<div>\n",
       "<style scoped>\n",
       "    .dataframe tbody tr th:only-of-type {\n",
       "        vertical-align: middle;\n",
       "    }\n",
       "\n",
       "    .dataframe tbody tr th {\n",
       "        vertical-align: top;\n",
       "    }\n",
       "\n",
       "    .dataframe thead th {\n",
       "        text-align: right;\n",
       "    }\n",
       "</style>\n",
       "<table border=\"1\" class=\"dataframe\">\n",
       "  <thead>\n",
       "    <tr style=\"text-align: right;\">\n",
       "      <th></th>\n",
       "      <th>Unnamed: 0</th>\n",
       "      <th>energy_pred</th>\n",
       "      <th>DNNLabel_TotalDepositedEnergy</th>\n",
       "      <th>event_no</th>\n",
       "    </tr>\n",
       "  </thead>\n",
       "  <tbody>\n",
       "    <tr>\n",
       "      <th>0</th>\n",
       "      <td>0</td>\n",
       "      <td>40.684753</td>\n",
       "      <td>15.983420</td>\n",
       "      <td>61269.0</td>\n",
       "    </tr>\n",
       "    <tr>\n",
       "      <th>1</th>\n",
       "      <td>1</td>\n",
       "      <td>143.116776</td>\n",
       "      <td>103.907875</td>\n",
       "      <td>131479.0</td>\n",
       "    </tr>\n",
       "    <tr>\n",
       "      <th>2</th>\n",
       "      <td>2</td>\n",
       "      <td>2930.474121</td>\n",
       "      <td>3945.905518</td>\n",
       "      <td>115616.0</td>\n",
       "    </tr>\n",
       "    <tr>\n",
       "      <th>3</th>\n",
       "      <td>3</td>\n",
       "      <td>213.015350</td>\n",
       "      <td>183.664627</td>\n",
       "      <td>17797.0</td>\n",
       "    </tr>\n",
       "    <tr>\n",
       "      <th>4</th>\n",
       "      <td>4</td>\n",
       "      <td>333.990997</td>\n",
       "      <td>344.980286</td>\n",
       "      <td>71741.0</td>\n",
       "    </tr>\n",
       "    <tr>\n",
       "      <th>...</th>\n",
       "      <td>...</td>\n",
       "      <td>...</td>\n",
       "      <td>...</td>\n",
       "      <td>...</td>\n",
       "    </tr>\n",
       "    <tr>\n",
       "      <th>55684</th>\n",
       "      <td>55684</td>\n",
       "      <td>867.185852</td>\n",
       "      <td>822.928711</td>\n",
       "      <td>80601.0</td>\n",
       "    </tr>\n",
       "    <tr>\n",
       "      <th>55685</th>\n",
       "      <td>55685</td>\n",
       "      <td>112.631981</td>\n",
       "      <td>376.347321</td>\n",
       "      <td>43454.0</td>\n",
       "    </tr>\n",
       "    <tr>\n",
       "      <th>55686</th>\n",
       "      <td>55686</td>\n",
       "      <td>206.014496</td>\n",
       "      <td>1832.363647</td>\n",
       "      <td>82079.0</td>\n",
       "    </tr>\n",
       "    <tr>\n",
       "      <th>55687</th>\n",
       "      <td>55687</td>\n",
       "      <td>399.165405</td>\n",
       "      <td>324.949219</td>\n",
       "      <td>119082.0</td>\n",
       "    </tr>\n",
       "    <tr>\n",
       "      <th>55688</th>\n",
       "      <td>55688</td>\n",
       "      <td>14630.004883</td>\n",
       "      <td>12219.363281</td>\n",
       "      <td>20690.0</td>\n",
       "    </tr>\n",
       "  </tbody>\n",
       "</table>\n",
       "<p>55689 rows × 4 columns</p>\n",
       "</div>"
      ],
      "text/plain": [
       "       Unnamed: 0   energy_pred  DNNLabel_TotalDepositedEnergy  event_no\n",
       "0               0     40.684753                      15.983420   61269.0\n",
       "1               1    143.116776                     103.907875  131479.0\n",
       "2               2   2930.474121                    3945.905518  115616.0\n",
       "3               3    213.015350                     183.664627   17797.0\n",
       "4               4    333.990997                     344.980286   71741.0\n",
       "...           ...           ...                            ...       ...\n",
       "55684       55684    867.185852                     822.928711   80601.0\n",
       "55685       55685    112.631981                     376.347321   43454.0\n",
       "55686       55686    206.014496                    1832.363647   82079.0\n",
       "55687       55687    399.165405                     324.949219  119082.0\n",
       "55688       55688  14630.004883                   12219.363281   20690.0\n",
       "\n",
       "[55689 rows x 4 columns]"
      ]
     },
     "execution_count": 4,
     "metadata": {},
     "output_type": "execute_result"
    }
   ],
   "source": [
    "results"
   ]
  },
  {
   "cell_type": "code",
   "execution_count": 5,
   "id": "43f093ee",
   "metadata": {},
   "outputs": [
    {
     "data": {
      "image/png": "[encoded data removed]",
      "text/plain": [
       "<Figure size 640x480 with 1 Axes>"
      ]
     },
     "metadata": {},
     "output_type": "display_data"
    }
   ],
   "source": [
    "import numpy as np\n",
    "import matplotlib\n",
    "\n",
    "fig, ax = plt.subplots()\n",
    "\n",
    "bins = (np.logspace(2, 6, 50), np.logspace(2, 6, 50))\n",
    "\n",
    "ax.hist2d(\n",
    "    results['DNNLabel_TotalDepositedEnergy'],\n",
    "    results['energy_pred'], \n",
    "    norm=matplotlib.colors.LogNorm(),\n",
    "    bins=bins,\n",
    ")\n",
    "ax.plot(bins[0], bins[0], ls='--', color='0.7')\n",
    "ax.set_xlabel('True deposited energy')\n",
    "ax.set_ylabel('Predicted energy')\n",
    "ax.set_xscale('log')\n",
    "ax.set_yscale('log')\n",
    "fig.savefig(\n",
    "    os.path.join(plot_dir, 'correlation_TotalDepositedEnergy_5epochs.png'), \n",
    "    dpi=100,\n",
    ")\n"
   ]
  },
  {
   "cell_type": "code",
   "execution_count": null,
   "id": "571d7471",
   "metadata": {},
   "outputs": [],
   "source": []
  }
 ],
 "metadata": {
  "kernelspec": {
   "display_name": "graphnet_py3-v4.2.1",
   "language": "python",
   "name": "graphnet_py3-v4.2.1"
  },
  "language_info": {
   "codemirror_mode": {
    "name": "ipython",
    "version": 3
   },
   "file_extension": ".py",
   "mimetype": "text/x-python",
   "name": "python",
   "nbconvert_exporter": "python",
   "pygments_lexer": "ipython3",
   "version": "3.10.2"
  }
 },
 "nbformat": 4,
 "nbformat_minor": 5
}
