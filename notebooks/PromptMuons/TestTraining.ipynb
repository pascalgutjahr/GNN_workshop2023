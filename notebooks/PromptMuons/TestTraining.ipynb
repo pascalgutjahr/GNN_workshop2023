{
 "cells": [
  {
   "cell_type": "code",
   "execution_count": 1,
   "id": "65bd724f",
   "metadata": {},
   "outputs": [
    {
     "name": "stdout",
     "output_type": "stream",
     "text": [
      "\u001b[1;34mgraphnet\u001b[0m [MainProcess] \u001b[33mWARNING \u001b[0m 2023-05-03 16:50:16 - has_icecube_package - `icecube` not available. Some functionality may be missing.\u001b[0m\n"
     ]
    }
   ],
   "source": [
    "%matplotlib inline\n",
    "%load_ext autoreload\n",
    "%autoreload 2\n",
    "\n",
    "import os\n",
    "os.environ['CUDA_VISIBLE_DEVICES'] = '1'\n",
    "from matplotlib import pyplot as plt\n",
    "\n",
    "\n",
    "from pytorch_lightning.callbacks import EarlyStopping\n",
    "from pytorch_lightning.loggers import WandbLogger\n",
    "import torch\n",
    "from torch.optim.adam import Adam\n",
    "\n",
    "from graphnet.constants import EXAMPLE_DATA_DIR, EXAMPLE_OUTPUT_DIR\n",
    "from graphnet.data.constants import FEATURES, TRUTH\n",
    "from graphnet.models import StandardModel\n",
    "from graphnet.models.detector.prometheus import Prometheus\n",
    "from graphnet.models.gnn import DynEdge\n",
    "from graphnet.models.graph_builders import KNNGraphBuilder\n",
    "from graphnet.models.task.reconstruction import EnergyReconstruction\n",
    "from graphnet.training.callbacks import ProgressBar, PiecewiseLinearLR\n",
    "from graphnet.training.loss_functions import LogCoshLoss\n",
    "from graphnet.training.utils import make_train_validation_dataloader\n",
    "from graphnet.utilities.argparse import ArgumentParser\n",
    "from graphnet.utilities.logging import Logger\n"
   ]
  },
  {
   "cell_type": "markdown",
   "id": "f3241087",
   "metadata": {},
   "source": [
    "## Define Settings"
   ]
  },
  {
   "cell_type": "code",
   "execution_count": 9,
   "id": "33107757",
   "metadata": {},
   "outputs": [
    {
     "name": "stdout",
     "output_type": "stream",
     "text": [
      "Creating plot directory: data/\n"
     ]
    }
   ],
   "source": [
    "plot_dir = 'plots/'\n",
    "data_dir = 'data/'\n",
    "\n",
    "for directory in [plot_dir, data_dir]:\n",
    "    if not os.path.exists(directory):\n",
    "        print('Creating plot directory:', directory)\n",
    "        os.makedirs(directory)"
   ]
  },
  {
   "cell_type": "code",
   "execution_count": 3,
   "id": "9c1d9c39",
   "metadata": {},
   "outputs": [],
   "source": [
    "db_file = '/net/big-tank/POOL/users/pgutjahr/data/data/graphnet/20904_labels.db'\n",
    "\n",
    "wandb = False\n",
    "config = {\n",
    "    \"path\": db_file,\n",
    "    \"pulsemap\": 'SRTInIcePulses',\n",
    "    \"batch_size\": 16,\n",
    "    \"num_workers\": 22,\n",
    "    'truth_table': 'LabelsDeepLearning',\n",
    "    \"target\": 'DNNLabel_TotalDepositedEnergy',\n",
    "    \"early_stopping_patience\": None,\n",
    "    \"fit\": {\n",
    "        \"gpus\": 1,\n",
    "        \"max_epochs\": 1,\n",
    "    },\n",
    "}\n"
   ]
  },
  {
   "cell_type": "markdown",
   "id": "079cfc2c",
   "metadata": {},
   "source": [
    "#### Define Features and Labels"
   ]
  },
  {
   "cell_type": "code",
   "execution_count": 4,
   "id": "6d6bb20f",
   "metadata": {},
   "outputs": [],
   "source": [
    "from graphnet.models.detector.icecube import IceCube86\n",
    "\n",
    "features = FEATURES.ICECUBE86\n",
    "\n",
    "class TRUTH:\n",
    "    \"\"\"Namespace for standard names working with `I3TruthExtractor`.\"\"\"\n",
    "\n",
    "    ICECUBE86 = [\n",
    "        \"DNNLabel_TotalDepositedEnergy\",\n",
    "        # \"energy\",\n",
    "        # \"energy_track\",\n",
    "        # \"position_x\",\n",
    "        # \"position_y\",\n",
    "        # \"position_z\",\n",
    "        # \"azimuth\",\n",
    "        # \"zenith\",\n",
    "        # \"pid\",\n",
    "        # \"elasticity\",\n",
    "        # \"sim_type\",\n",
    "        # \"interaction_type\",\n",
    "        # \"interaction_time\",  # Added for vertex reconstruction\n",
    "        # \"inelasticity\",\n",
    "        # \"stopped_muon\",\n",
    "    ]\n",
    "\n",
    "truth = TRUTH.ICECUBE86"
   ]
  },
  {
   "cell_type": "markdown",
   "id": "4e8ccc04",
   "metadata": {},
   "source": [
    "#### Create Data Loaders"
   ]
  },
  {
   "cell_type": "code",
   "execution_count": 5,
   "id": "41a4ed69",
   "metadata": {},
   "outputs": [
    {
     "name": "stdout",
     "output_type": "stream",
     "text": [
      "\u001b[1;34mgraphnet\u001b[0m [MainProcess] \u001b[32mINFO    \u001b[0m 2023-05-03 16:50:17 - StringSelectionResolver.__init__ - Writing log to \u001b[1mlogs/graphnet_20230503-165017.log\u001b[0m\n"
     ]
    }
   ],
   "source": [
    "(\n",
    "    training_dataloader,\n",
    "    validation_dataloader,\n",
    ") = make_train_validation_dataloader(\n",
    "    config[\"path\"],\n",
    "    None,\n",
    "    config[\"pulsemap\"],\n",
    "    features,\n",
    "    truth,\n",
    "    batch_size=config[\"batch_size\"],\n",
    "    num_workers=config[\"num_workers\"],\n",
    "    truth_table=config['truth_table'],\n",
    ")"
   ]
  },
  {
   "cell_type": "markdown",
   "id": "3406e7f2",
   "metadata": {},
   "source": [
    "#### Build Model"
   ]
  },
  {
   "cell_type": "code",
   "execution_count": 6,
   "id": "bab6b44f",
   "metadata": {},
   "outputs": [],
   "source": [
    "detector = IceCube86(\n",
    "    graph_builder=KNNGraphBuilder(nb_nearest_neighbours=8),\n",
    ")\n",
    "gnn = DynEdge(\n",
    "    nb_inputs=detector.nb_outputs,\n",
    "    global_pooling_schemes=[\"min\", \"max\", \"mean\", \"sum\"],\n",
    ")\n",
    "task = EnergyReconstruction(\n",
    "    hidden_size=gnn.nb_outputs,\n",
    "    target_labels=config[\"target\"],\n",
    "    loss_function=LogCoshLoss(),\n",
    "    transform_prediction_and_target=torch.log10,\n",
    ")\n",
    "model = StandardModel(\n",
    "    detector=detector,\n",
    "    gnn=gnn,\n",
    "    tasks=[task],\n",
    "    optimizer_class=Adam,\n",
    "    optimizer_kwargs={\"lr\": 1e-03, \"eps\": 1e-03},\n",
    "    scheduler_class=PiecewiseLinearLR,\n",
    "    scheduler_kwargs={\n",
    "        \"milestones\": [\n",
    "            0,\n",
    "            len(training_dataloader) / 2,\n",
    "            len(training_dataloader) * config[\"fit\"][\"max_epochs\"],\n",
    "        ],\n",
    "        \"factors\": [1e-2, 1, 1e-02],\n",
    "    },\n",
    "    scheduler_config={\n",
    "        \"interval\": \"step\",\n",
    "    },\n",
    ")"
   ]
  },
  {
   "cell_type": "markdown",
   "id": "b7568692",
   "metadata": {},
   "source": [
    "#### Train Model"
   ]
  },
  {
   "cell_type": "code",
   "execution_count": 7,
   "id": "e514b7cd",
   "metadata": {},
   "outputs": [
    {
     "name": "stderr",
     "output_type": "stream",
     "text": [
      "GPU available: True (cuda), used: True\n",
      "TPU available: False, using: 0 TPU cores\n",
      "IPU available: False, using: 0 IPUs\n",
      "HPU available: False, using: 0 HPUs\n",
      "Trainer already configured with model summary callbacks: [<class 'pytorch_lightning.callbacks.model_summary.ModelSummary'>]. Skipping setting a default `ModelSummary` callback.\n",
      "GPU available: True (cuda), used: True\n",
      "TPU available: False, using: 0 TPU cores\n",
      "IPU available: False, using: 0 IPUs\n",
      "HPU available: False, using: 0 HPUs\n",
      "LOCAL_RANK: 0 - CUDA_VISIBLE_DEVICES: [1]\n",
      "\n",
      "  | Name      | Type       | Params\n",
      "-----------------------------------------\n",
      "0 | _detector | IceCube86  | 0     \n",
      "1 | _gnn      | DynEdge    | 1.4 M \n",
      "2 | _tasks    | ModuleList | 129   \n",
      "-----------------------------------------\n",
      "1.4 M     Trainable params\n",
      "0         Non-trainable params\n",
      "1.4 M     Total params\n",
      "5.529     Total estimated model params size (MB)\n"
     ]
    },
    {
     "data": {
      "application/vnd.jupyter.widget-view+json": {
       "model_id": "",
       "version_major": 2,
       "version_minor": 0
      },
      "text/plain": [
       "Sanity Checking: 0it [00:00, ?it/s]"
      ]
     },
     "metadata": {},
     "output_type": "display_data"
    },
    {
     "data": {
      "application/vnd.jupyter.widget-view+json": {
       "model_id": "c219a1dedaa740e6942dea3edb739704",
       "version_major": 2,
       "version_minor": 0
      },
      "text/plain": [
       "Training: 0it [00:00, ?it/s]"
      ]
     },
     "metadata": {},
     "output_type": "display_data"
    },
    {
     "data": {
      "application/vnd.jupyter.widget-view+json": {
       "model_id": "",
       "version_major": 2,
       "version_minor": 0
      },
      "text/plain": [
       "Validation: 0it [00:00, ?it/s]"
      ]
     },
     "metadata": {},
     "output_type": "display_data"
    },
    {
     "name": "stderr",
     "output_type": "stream",
     "text": [
      "`Trainer.fit` stopped: `max_epochs=1` reached.\n"
     ]
    }
   ],
   "source": [
    "callbacks = [\n",
    "    EarlyStopping(\n",
    "        monitor=\"val_loss\",\n",
    "        patience=config[\"early_stopping_patience\"],\n",
    "    ),\n",
    "    ProgressBar(),\n",
    "]\n",
    "\n",
    "model.fit(\n",
    "    training_dataloader,\n",
    "    validation_dataloader,\n",
    "    callbacks=callbacks,\n",
    "    logger=wandb_logger if wandb else None,\n",
    "    #distribution_strategy=\"ddp_notebook\",\n",
    "    distribution_strategy=None,\n",
    "    **config[\"fit\"],\n",
    ")"
   ]
  },
  {
   "cell_type": "markdown",
   "id": "4329fe38",
   "metadata": {},
   "source": [
    "#### Get Predictions"
   ]
  },
  {
   "cell_type": "code",
   "execution_count": 10,
   "id": "f7096ef9",
   "metadata": {},
   "outputs": [
    {
     "name": "stdout",
     "output_type": "stream",
     "text": [
      "\u001b[1;34mgraphnet\u001b[0m [MainProcess] \u001b[32mINFO    \u001b[0m 2023-05-03 17:03:38 - StandardModel.predict_as_dataframe - Column names for predictions are: \n",
      " ['energy_pred']\u001b[0m\n"
     ]
    },
    {
     "name": "stderr",
     "output_type": "stream",
     "text": [
      "LOCAL_RANK: 0 - CUDA_VISIBLE_DEVICES: [1]\n"
     ]
    },
    {
     "data": {
      "application/vnd.jupyter.widget-view+json": {
       "model_id": "a38155d51cb34696884fdba74576380d",
       "version_major": 2,
       "version_minor": 0
      },
      "text/plain": [
       "Predicting: 0it [00:00, ?it/s]"
      ]
     },
     "metadata": {},
     "output_type": "display_data"
    }
   ],
   "source": [
    "additional_attributes = model.target_labels\n",
    "assert isinstance(additional_attributes, list)  # mypy\n",
    "\n",
    "results = model.predict_as_dataframe(\n",
    "    validation_dataloader,\n",
    "    additional_attributes=additional_attributes + [\"event_no\"],\n",
    ")"
   ]
  },
  {
   "cell_type": "markdown",
   "id": "5877b29c",
   "metadata": {},
   "source": [
    "#### Save predictions and model to file"
   ]
  },
  {
   "cell_type": "code",
   "execution_count": 14,
   "id": "6f2b0248",
   "metadata": {},
   "outputs": [
    {
     "name": "stdout",
     "output_type": "stream",
     "text": [
      "\u001b[1;34mgraphnet\u001b[0m [MainProcess] \u001b[32mINFO    \u001b[0m 2023-05-03 17:09:02 - StandardModel.save_state_dict - Model state_dict saved to data/20904_labels/test_run/state_dict.pth\u001b[0m\n",
      "\u001b[1;34mgraphnet\u001b[0m [MainProcess] \u001b[32mINFO    \u001b[0m 2023-05-03 17:09:04 - StandardModel.save - Model saved to data/20904_labels/test_run/model.pth\u001b[0m\n"
     ]
    }
   ],
   "source": [
    "db_name = config['path'].split(\"/\")[-1].split(\".\")[0]\n",
    "path = os.path.join(data_dir, db_name, 'test_run')\n",
    "os.makedirs(path, exist_ok=True)\n",
    "\n",
    "results.to_csv(f\"{path}/results.csv\")\n",
    "model.save_state_dict(f\"{path}/state_dict.pth\")\n",
    "model.save(f\"{path}/model.pth\")"
   ]
  },
  {
   "cell_type": "markdown",
   "id": "3c13b16a",
   "metadata": {},
   "source": [
    "#### Plot Results"
   ]
  },
  {
   "cell_type": "code",
   "execution_count": 16,
   "id": "5c4b95f0",
   "metadata": {},
   "outputs": [
    {
     "data": {
      "text/html": [
       "<div>\n",
       "<style scoped>\n",
       "    .dataframe tbody tr th:only-of-type {\n",
       "        vertical-align: middle;\n",
       "    }\n",
       "\n",
       "    .dataframe tbody tr th {\n",
       "        vertical-align: top;\n",
       "    }\n",
       "\n",
       "    .dataframe thead th {\n",
       "        text-align: right;\n",
       "    }\n",
       "</style>\n",
       "<table border=\"1\" class=\"dataframe\">\n",
       "  <thead>\n",
       "    <tr style=\"text-align: right;\">\n",
       "      <th></th>\n",
       "      <th>energy_pred</th>\n",
       "      <th>DNNLabel_TotalDepositedEnergy</th>\n",
       "      <th>event_no</th>\n",
       "    </tr>\n",
       "  </thead>\n",
       "  <tbody>\n",
       "    <tr>\n",
       "      <th>0</th>\n",
       "      <td>47.939583</td>\n",
       "      <td>15.983420</td>\n",
       "      <td>61269.0</td>\n",
       "    </tr>\n",
       "    <tr>\n",
       "      <th>1</th>\n",
       "      <td>289.935974</td>\n",
       "      <td>103.907875</td>\n",
       "      <td>131479.0</td>\n",
       "    </tr>\n",
       "    <tr>\n",
       "      <th>2</th>\n",
       "      <td>2025.529297</td>\n",
       "      <td>3945.905518</td>\n",
       "      <td>115616.0</td>\n",
       "    </tr>\n",
       "    <tr>\n",
       "      <th>3</th>\n",
       "      <td>194.007401</td>\n",
       "      <td>183.664627</td>\n",
       "      <td>17797.0</td>\n",
       "    </tr>\n",
       "    <tr>\n",
       "      <th>4</th>\n",
       "      <td>304.647583</td>\n",
       "      <td>344.980286</td>\n",
       "      <td>71741.0</td>\n",
       "    </tr>\n",
       "    <tr>\n",
       "      <th>...</th>\n",
       "      <td>...</td>\n",
       "      <td>...</td>\n",
       "      <td>...</td>\n",
       "    </tr>\n",
       "    <tr>\n",
       "      <th>55684</th>\n",
       "      <td>868.400269</td>\n",
       "      <td>822.928711</td>\n",
       "      <td>80601.0</td>\n",
       "    </tr>\n",
       "    <tr>\n",
       "      <th>55685</th>\n",
       "      <td>112.659836</td>\n",
       "      <td>376.347321</td>\n",
       "      <td>43454.0</td>\n",
       "    </tr>\n",
       "    <tr>\n",
       "      <th>55686</th>\n",
       "      <td>206.380707</td>\n",
       "      <td>1832.363647</td>\n",
       "      <td>82079.0</td>\n",
       "    </tr>\n",
       "    <tr>\n",
       "      <th>55687</th>\n",
       "      <td>430.585815</td>\n",
       "      <td>324.949219</td>\n",
       "      <td>119082.0</td>\n",
       "    </tr>\n",
       "    <tr>\n",
       "      <th>55688</th>\n",
       "      <td>14223.771484</td>\n",
       "      <td>12219.363281</td>\n",
       "      <td>20690.0</td>\n",
       "    </tr>\n",
       "  </tbody>\n",
       "</table>\n",
       "<p>55689 rows × 3 columns</p>\n",
       "</div>"
      ],
      "text/plain": [
       "        energy_pred  DNNLabel_TotalDepositedEnergy  event_no\n",
       "0         47.939583                      15.983420   61269.0\n",
       "1        289.935974                     103.907875  131479.0\n",
       "2       2025.529297                    3945.905518  115616.0\n",
       "3        194.007401                     183.664627   17797.0\n",
       "4        304.647583                     344.980286   71741.0\n",
       "...             ...                            ...       ...\n",
       "55684    868.400269                     822.928711   80601.0\n",
       "55685    112.659836                     376.347321   43454.0\n",
       "55686    206.380707                    1832.363647   82079.0\n",
       "55687    430.585815                     324.949219  119082.0\n",
       "55688  14223.771484                   12219.363281   20690.0\n",
       "\n",
       "[55689 rows x 3 columns]"
      ]
     },
     "execution_count": 16,
     "metadata": {},
     "output_type": "execute_result"
    }
   ],
   "source": [
    "results"
   ]
  },
  {
   "cell_type": "code",
   "execution_count": 25,
   "id": "43f093ee",
   "metadata": {},
   "outputs": [
    {
     "data": {
      "image/png": "[encoded data removed]",
      "text/plain": [
       "<Figure size 640x480 with 1 Axes>"
      ]
     },
     "metadata": {},
     "output_type": "display_data"
    }
   ],
   "source": [
    "import numpy as np\n",
    "import matplotlib\n",
    "\n",
    "fig, ax = plt.subplots()\n",
    "\n",
    "bins = (np.logspace(2, 6, 50), np.logspace(2, 6, 50))\n",
    "\n",
    "ax.hist2d(\n",
    "    results['DNNLabel_TotalDepositedEnergy'],\n",
    "    results['energy_pred'], \n",
    "    norm=matplotlib.colors.LogNorm(),\n",
    "    bins=bins,\n",
    ")\n",
    "ax.plot(bins[0], bins[0], ls='--', color='0.7')\n",
    "ax.set_xlabel('True deposited energy')\n",
    "ax.set_ylabel('Predicted energy')\n",
    "ax.set_xscale('log')\n",
    "ax.set_yscale('log')\n",
    "fig.savefig(\n",
    "    os.path.join(plot_dir, 'correlation_TotalDepositedEnergy.png'), \n",
    "    dpi=100,\n",
    ")\n"
   ]
  },
  {
   "cell_type": "code",
   "execution_count": null,
   "id": "571d7471",
   "metadata": {},
   "outputs": [],
   "source": []
  }
 ],
 "metadata": {
  "kernelspec": {
   "display_name": "graphnet_py3-v4.2.1",
   "language": "python",
   "name": "graphnet_py3-v4.2.1"
  },
  "language_info": {
   "codemirror_mode": {
    "name": "ipython",
    "version": 3
   },
   "file_extension": ".py",
   "mimetype": "text/x-python",
   "name": "python",
   "nbconvert_exporter": "python",
   "pygments_lexer": "ipython3",
   "version": "3.10.2"
  }
 },
 "nbformat": 4,
 "nbformat_minor": 5
}
